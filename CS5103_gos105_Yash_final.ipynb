{
 "cells": [
  {
   "cell_type": "code",
   "execution_count": 11,
   "metadata": {},
   "outputs": [],
   "source": [
    "\n",
    "def word_freq(string):\n",
    "    text = rem_punc(string)\n",
    "    \n",
    "    words = text.lower().split()\n",
    "    unique_words = set(words)\n",
    "    freq = [words.count(word) for word in unique_words]\n",
    "    \n",
    "    # Combine the lists and sort in descending order\n",
    "    word_freq = list(zip(unique_words, freq))\n",
    "    word_freq.sort(reverse = True, key=lambda a: a[1])\n",
    "    \n",
    "    return word_freq\n",
    "\n",
    "\n",
    "def rem_punc(text):\n",
    "    puncuations = '''!()-[]{};:''\"\"\\,<>./?@#$%^&*_~'''\n",
    "    for element in text: \n",
    "        if element in puncuations: \n",
    "            text = text.replace(element, \"\")\n",
    "        else:\n",
    "            continue\n",
    "    return text\n",
    "\n",
    "\n",
    "def LineCnt(string):\n",
    "    lines = len(string.split('\\n'))\n",
    "    return lines\n",
    "\n",
    "\n",
    "def CharCount(string):\n",
    "    # Remove puncuations\n",
    "    text = rem_punc(string)\n",
    "    \n",
    "    char_dump = \"\".join(text.split())\n",
    "    return len(char_dump)\n",
    "\n",
    "# Replace a certain word with a new one\n",
    "def Replace(old, new, string):\n",
    "    text = rem_punc(string)\n",
    "    \n",
    "    # unique words\n",
    "    words = text.split()\n",
    "    for i in range(len(words)):\n",
    "        if old == words[i]:\n",
    "            words[i] = new\n",
    "    return \" \".join(words)"
   ]
  },
  {
   "cell_type": "code",
   "execution_count": 12,
   "metadata": {},
   "outputs": [],
   "source": [
    "str_a = \"My bike. his bike. Their bike.\"\n",
    "\n",
    "str_b = \"Nory was a Catholic because her mother was a Catholic, and Norys mother was a Catholic\"\n",
    "\n",
    "str_c = \"Congratulations! Today is your day. Youre off to Great Places! Youre off and away!\"\n",
    "\n",
    "str_d = '''I felt happy because I saw the others were happy and because I knew I should feel happy, but I wasnt really happy.'''\n",
    "\n",
    "\n",
    "\n",
    "def test_replace():\n",
    "    assert (Replace('bike', 'car', str_a)) == \"My car his car Their car\"\n",
    "    assert (Replace('Catholic', 'protestant', str_b)) == \"Nory was a protestant because her mother was a protestant and Norys mother was a protestant\"\n",
    "    assert (Replace('happy', 'sad', str_d)) == \"I felt sad because I saw the others were sad and because I knew I should feel sad but I wasnt really sad\"  \n",
    "\n",
    "def test_remove_punc():\n",
    "    assert (rem_punc(str_a)) == \"My bike his bike Their bike\"\n",
    "    assert (rem_punc(str_b)) == \"Nory was a Catholic because her mother was a Catholic and Norys mother was a Catholic\"\n",
    "    assert (rem_punc(str_c)) == '''Congratulations Today is your day Youre off to Great Places Youre off and away'''\n",
    "    assert (rem_punc(str_d)) == '''I felt happy because I saw the others were happy and because I knew I should feel happy but I wasnt really happy'''\n",
    "    \n",
    "\n",
    "\n",
    "def test_line_count():\n",
    "    assert (LineCnt(str_a)) == 1\n",
    "    assert (LineCnt(str_b)) == 1\n",
    "    assert (LineCnt(str_c)) == 1\n",
    "    assert (LineCnt(str_d)) == 1\n",
    "\n",
    "\n",
    "def test_char_count():\n",
    "    assert (CharCount(str_a)) == 22\n",
    "    assert (CharCount(str_b)) == 70\n",
    "    assert (CharCount(str_c)) == 65\n",
    "    assert (CharCount(str_d)) == 90"
   ]
  },
  {
   "cell_type": "code",
   "execution_count": 14,
   "metadata": {},
   "outputs": [],
   "source": [
    "# all functions test\n",
    "test_char_count()\n",
    "test_line_count()\n",
    "test_remove_punc()\n",
    "test_replace()"
   ]
  },
  {
   "cell_type": "code",
   "execution_count": 15,
   "metadata": {},
   "outputs": [
    {
     "name": "stdout",
     "output_type": "stream",
     "text": [
      "Eg.\n",
      "---------------------- Word Frequency ----------------------\n",
      "heart  :  2\n",
      "so  :  1\n",
      "is  :  1\n",
      "the  :  1\n",
      "hard  :  1\n",
      "timid  :  1\n",
      "as  :  1\n",
      "no  :  1\n",
      "------------------------------------------------------------\n",
      "Line Count:  1\n",
      "------------------------------------------------------------\n",
      "Character Count:  30\n",
      "------------------------------------------------------------\n",
      "No brain is so hard as the timid brain\n"
     ]
    }
   ],
   "source": [
    "\n",
    "print(\"Eg.\")\n",
    "string = '''No heart is so hard as the timid heart'''\n",
    "print(\"---------------------- Word Frequency ----------------------\")\n",
    "for word, freq in word_freq(string):\n",
    "    print(word, \" : \", freq)\n",
    "print(\"------------------------------------------------------------\")\n",
    "print(\"Line Count: \", LineCnt(string))\n",
    "print(\"------------------------------------------------------------\")\n",
    "print(\"Character Count: \", CharCount(string))\n",
    "print(\"------------------------------------------------------------\")\n",
    "print(Replace(\"heart\", \"brain\", string))"
   ]
  },
  {
   "cell_type": "code",
   "execution_count": null,
   "metadata": {},
   "outputs": [],
   "source": []
  }
 ],
 "metadata": {
  "kernelspec": {
   "display_name": "Python 3",
   "language": "python",
   "name": "python3"
  },
  "language_info": {
   "codemirror_mode": {
    "name": "ipython",
    "version": 3
   },
   "file_extension": ".py",
   "mimetype": "text/x-python",
   "name": "python",
   "nbconvert_exporter": "python",
   "pygments_lexer": "ipython3",
   "version": "3.8.5"
  }
 },
 "nbformat": 4,
 "nbformat_minor": 4
}
