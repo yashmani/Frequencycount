{
 "cells": [
  {
   "cell_type": "code",
   "execution_count": 37,
   "metadata": {},
   "outputs": [
    {
     "name": "stdout",
     "output_type": "stream",
     "text": [
      "My - 1\n",
      "name - 1\n",
      "is - 1\n",
      "yash - 2\n"
     ]
    }
   ],
   "source": [
    "def Frequencyprint(strr):\n",
    "    Y = {}\n",
    "    \n",
    "    word = \"\"\n",
    "     \n",
    "    for i in range(len(strr)):\n",
    "         \n",
    "        if (strr[i] == ' '):\n",
    "             \n",
    "            if (word not in Y):\n",
    "                Y[word] = 1\n",
    "                word = \"\"\n",
    "                \n",
    "            else:\n",
    "                Y[word] = Y[word] + 1\n",
    "                word = \"\"\n",
    "         \n",
    "        else:\n",
    "            word = word + strr[i]\n",
    "     \n",
    "    if (word not in Y):\n",
    "        Y[word] = 1\n",
    "     \n",
    "    else:\n",
    "        Y[word] = Y[word] + 1\n",
    "         \n",
    "    for it in Y:\n",
    "        print(it, \"-\", Y[it])\n",
    "     \n",
    "strr = \"My name is yash yash\"\n",
    "Frequencyprint(strr)"
   ]
  },
  {
   "cell_type": "code",
   "execution_count": null,
   "metadata": {},
   "outputs": [],
   "source": []
  },
  {
   "cell_type": "code",
   "execution_count": null,
   "metadata": {},
   "outputs": [],
   "source": []
  },
  {
   "cell_type": "code",
   "execution_count": null,
   "metadata": {},
   "outputs": [],
   "source": []
  }
 ],
 "metadata": {
  "kernelspec": {
   "display_name": "Python 3",
   "language": "python",
   "name": "python3"
  },
  "language_info": {
   "codemirror_mode": {
    "name": "ipython",
    "version": 3
   },
   "file_extension": ".py",
   "mimetype": "text/x-python",
   "name": "python",
   "nbconvert_exporter": "python",
   "pygments_lexer": "ipython3",
   "version": "3.8.5"
  }
 },
 "nbformat": 4,
 "nbformat_minor": 4
}
