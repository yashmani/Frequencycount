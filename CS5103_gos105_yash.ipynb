{
 "cells": [
  {
   "cell_type": "code",
   "execution_count": 1,
   "metadata": {},
   "outputs": [],
   "source": [
    "# Enter input in the mentioned area in the last cell block below\n",
    "\n",
    "#Frequencyprint function\n",
    "def Frequencyprint(strr):\n",
    "    if strr == \"\":\n",
    "        return \n",
    "    # break the string into list of words \n",
    "    strr = strr.split()\n",
    "    str2 = []\n",
    "    # loop till string values present in list str\n",
    "    for i in strr:             \n",
    "  \n",
    "        # checking for the duplicacy\n",
    "        if i not in str2:\n",
    "  \n",
    "            # insert value in str2\n",
    "            str2.append(i) \n",
    "              \n",
    "    for i in str2:\n",
    "        print('Frequency of ', i, 'is : ', strr.count(i))\n",
    "\n"
   ]
  },
  {
   "cell_type": "code",
   "execution_count": 2,
   "metadata": {},
   "outputs": [],
   "source": [
    "def CharCount(test_str):\n",
    "\n",
    "    characters = \"\".join(test_str.split())\n",
    "    # printing result \n",
    "    print (\"Number of Characters= \", len(characters), '\\n\\n')"
   ]
  },
  {
   "cell_type": "code",
   "execution_count": 3,
   "metadata": {},
   "outputs": [],
   "source": [
    "def LineCount(string):\n",
    "    if string == \"\":\n",
    "        return\n",
    "    nlines = string.count('\\n')\n",
    "    print(nlines+1, '\\n\\n')"
   ]
  },
  {
   "cell_type": "code",
   "execution_count": 4,
   "metadata": {},
   "outputs": [
    {
     "name": "stdout",
     "output_type": "stream",
     "text": [
      "Number of Characters=  6 \n",
      "\n",
      "\n",
      "Frequency of  abc is :  1\n",
      "Frequency of  de is :  1\n",
      "Frequency of  f is :  1\n",
      "1 \n",
      "\n",
      "\n"
     ]
    }
   ],
   "source": [
    "\"\"\"\n",
    "\n",
    "ENTER USER STRING HERE!!!!!!!!!!!!!!!!\n",
    "Please enter your input in the Userstring variable\n",
    "\n",
    "\"\"\"\n",
    "\n",
    "Userstring = '''abc de f'''\n",
    "\n",
    "# calling the functions\n",
    "CharCount(Userstring)\n",
    "Frequencyprint(Userstring)\n",
    "LineCount(Userstring)"
   ]
  }
 ],
 "metadata": {
  "kernelspec": {
   "display_name": "Python 3",
   "language": "python",
   "name": "python3"
  },
  "language_info": {
   "codemirror_mode": {
    "name": "ipython",
    "version": 3
   },
   "file_extension": ".py",
   "mimetype": "text/x-python",
   "name": "python",
   "nbconvert_exporter": "python",
   "pygments_lexer": "ipython3",
   "version": "3.8.5"
  }
 },
 "nbformat": 4,
 "nbformat_minor": 4
}
