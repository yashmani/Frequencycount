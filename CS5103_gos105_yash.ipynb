{
 "cells": [
  {
   "cell_type": "code",
   "execution_count": 13,
   "metadata": {},
   "outputs": [],
   "source": [
    "# Enter input in the mentioned area in the last cell block below\n",
    "\n",
    "#Frequencyprint function\n",
    "def Frequencyprint(strr):\n",
    "    # break the string into list of words \n",
    "    strr = strr.split(' ')         \n",
    "    str2 = []\n",
    "    # loop till string values present in list str\n",
    "    for i in strr:             \n",
    "  \n",
    "        # checking for the duplicacy\n",
    "        if i not in str2:\n",
    "  \n",
    "            # insert value in str2\n",
    "            str2.append(i) \n",
    "              \n",
    "    for i in str2:\n",
    "        print('Frequency of ', i, 'is : ', strr.count(i))\n",
    "\n"
   ]
  },
  {
   "cell_type": "code",
   "execution_count": 14,
   "metadata": {},
   "outputs": [],
   "source": [
    "def CharCount(test_str):\n",
    "\n",
    "    all_freq = {}\n",
    "  \n",
    "    for i in test_str:\n",
    "        if i in all_freq:\n",
    "            all_freq[i] += 1\n",
    "        else:\n",
    "            all_freq[i] = 1\n",
    "\n",
    "    # printing result \n",
    "    print (str(all_freq), '\\n\\n')"
   ]
  },
  {
   "cell_type": "code",
   "execution_count": 15,
   "metadata": {},
   "outputs": [],
   "source": [
    "def LineCount(string):\n",
    "    nlines = string.count('\\n')\n",
    "    print(nlines+1, '\\n\\n')"
   ]
  },
  {
   "cell_type": "code",
   "execution_count": 12,
   "metadata": {},
   "outputs": [
    {
     "name": "stdout",
     "output_type": "stream",
     "text": [
      "{'a': 2, 'b': 2, 'c': 2, ' ': 4, '\\n': 4, 'd': 1, 'e': 1, 'f': 1, 'g': 1, 'h': 1, 'i': 1, 'k': 1, 'l': 1, 'm': 1} \n",
      "\n",
      "\n",
      "Frequency of  abc is :  1\n",
      "Frequency of  \n",
      "def is :  1\n",
      "Frequency of  \n",
      "ghi is :  1\n",
      "Frequency of  \n",
      "klm is :  1\n",
      "Frequency of  \n",
      "abc is :  1\n",
      "5 \n",
      "\n",
      "\n"
     ]
    }
   ],
   "source": [
    "\"\"\"\n",
    "\n",
    "ENTER USER STRING HERE!!!!!!!!!!!!!!!!\n",
    "Please enter your input in the Userstring variable\n",
    "\n",
    "\"\"\"\n",
    "\n",
    "Userstring = ''' '''\n",
    "\n",
    "# calling the functions\n",
    "CharCount(Userstring)\n",
    "Frequencyprint(Userstring)\n",
    "LineCount(Userstring)"
   ]
  },
  {
   "cell_type": "code",
   "execution_count": null,
   "metadata": {},
   "outputs": [],
   "source": []
  }
 ],
 "metadata": {
  "kernelspec": {
   "display_name": "Python 3",
   "language": "python",
   "name": "python3"
  },
  "language_info": {
   "codemirror_mode": {
    "name": "ipython",
    "version": 3
   },
   "file_extension": ".py",
   "mimetype": "text/x-python",
   "name": "python",
   "nbconvert_exporter": "python",
   "pygments_lexer": "ipython3",
   "version": "3.8.5"
  }
 },
 "nbformat": 4,
 "nbformat_minor": 4
}
